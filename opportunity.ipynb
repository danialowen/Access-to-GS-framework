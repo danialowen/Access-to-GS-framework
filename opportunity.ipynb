{
 "cells": [
  {
   "cell_type": "markdown",
   "id": "d8426217-d44e-4d1d-ab88-c32fe97db6c0",
   "metadata": {},
   "source": [
    "# Opportunity\n",
    "\n",
    "***Opportunity:*** Distance beyond 300 m (pressure) multiplied by the population sum\n",
    "\n",
    "To do this, we need:\n",
    "\n",
    "- `vector` population layer. Centroids, not polygons\n",
    "- `raster` reference layer for resolution and crs\n",
    "- `raster` layer for pressure "
   ]
  },
  {
   "cell_type": "markdown",
   "id": "b93b3551-c4d6-4563-b92a-1def3d5f0fe2",
   "metadata": {},
   "source": [
    "#### Import libraries\n"
   ]
  },
  {
   "cell_type": "code",
   "execution_count": 1,
   "id": "b89cc2aa-ff34-42d9-a4bc-4d550f3969b7",
   "metadata": {},
   "outputs": [],
   "source": [
    "import pandas as pd\n",
    "import numpy as np\n",
    "import geopandas as gpd\n",
    "import matplotlib.pyplot as plt\n",
    "import rasterio\n",
    "import time\n",
    "from rasterio import features\n",
    "from rasterio.plot import show\n",
    "from rasterio import plot"
   ]
  },
  {
   "cell_type": "markdown",
   "id": "e6a18ec8-7b43-4ff4-81e2-a8aafaea7d4c",
   "metadata": {},
   "source": [
    "#### Import data"
   ]
  },
  {
   "cell_type": "code",
   "execution_count": 2,
   "id": "5e3e842b-bf7d-4832-8d57-3bd630dd0974",
   "metadata": {},
   "outputs": [
    {
     "name": "stdout",
     "output_type": "stream",
     "text": [
      "CPU times: total: 30.7 s\n",
      "Wall time: 1min 28s\n"
     ]
    }
   ],
   "source": [
    "%%time\n",
    "# Read in the vector data (OGS) and reference raster \n",
    "Pop = gpd.read_file(\"P:/NERC_07901_DEFRAG 2021/GIS/DO/Data/All/Pop/all_pop_centroids_E_EM_SE_2km_buffer_from_built_sites.gpkg\")\n",
    "Ref_Ras = rasterio.open(\"P:/NERC_07901_DEFRAG 2021/GIS/DO/Data/All/Raster/reference_raster_gspaces_3km_from_built_sites.tif\")\n",
    "Press = rasterio.open(\"../S1_pressure/pressure.tif\")"
   ]
  },
  {
   "cell_type": "markdown",
   "id": "a3737e52-e29d-4b7e-92d5-703d2426e25d",
   "metadata": {},
   "source": [
    "#### Rasterize pop data - Sum"
   ]
  },
  {
   "cell_type": "code",
   "execution_count": 3,
   "id": "ac6ad22d-7aa6-4961-b59b-e8c41cebc126",
   "metadata": {},
   "outputs": [
    {
     "name": "stdout",
     "output_type": "stream",
     "text": [
      "CPU times: total: 1.75 s\n",
      "Wall time: 2.98 s\n"
     ]
    }
   ],
   "source": [
    "%%time\n",
    "# Get list of geometries and population values from vector layer\n",
    "geom = [geom for geom in Pop.geometry]\n",
    "pop_values = Pop['Population'].tolist()\n",
    "\n",
    "# Create a generator of (geometry, value) pairs\n",
    "shapes = ((geom, value) for geom, value in zip(geom, pop_values))\n",
    "\n",
    "# Rasterize the Pop layer and sum population values within each cell\n",
    "Pop_Rast = features.rasterize(\n",
    "    shapes=shapes,\n",
    "    out_shape=Ref_Ras.shape,\n",
    "    transform=Ref_Ras.transform,\n",
    "    fill=0,\n",
    "    merge_alg=rasterio.enums.MergeAlg.add\n",
    ")"
   ]
  },
  {
   "cell_type": "markdown",
   "id": "e95018b4-8d9f-4977-a816-8a328708a63b",
   "metadata": {},
   "source": [
    "#### Opportunity"
   ]
  },
  {
   "cell_type": "code",
   "execution_count": 6,
   "id": "793bbccb-08c7-499d-bbb1-23daafdd01d0",
   "metadata": {},
   "outputs": [],
   "source": [
    "# Read in the pressure raster layer as a numpy array\n",
    "Press_np = Press.read(1)"
   ]
  },
  {
   "cell_type": "code",
   "execution_count": 16,
   "id": "26000e36-74d1-41e2-8dac-fac844d77659",
   "metadata": {},
   "outputs": [],
   "source": [
    "# Calculate opportunity\n",
    "opp = Pop_Rast * Press_np"
   ]
  },
  {
   "cell_type": "markdown",
   "id": "5ac58b06-24bc-44f0-bf8d-2c697d75cd86",
   "metadata": {},
   "source": [
    "#### Save Output"
   ]
  },
  {
   "cell_type": "code",
   "execution_count": 7,
   "id": "301f61de-7ede-42da-b804-68de03292373",
   "metadata": {},
   "outputs": [],
   "source": [
    "# Save this layer as new raster file as it is currently a numpy array (has no refernce to coordinates).\n",
    "# We will want to save the file and assign it coordinates and a crs. Easiest way to do this is to use a reference raster layer (e.g., Ref Raster)\n",
    "\n",
    "# Copy the profile of Pop layer (e.g. CRS, extent, etc.)\n",
    "profile_ref = Ref_Ras.profile\n",
    "\n",
    "# Write the file\n",
    "with rasterio.open(\"opportunity.tif\", 'w', **profile_ref) as dst:\n",
    "     dst.write(opp, 1)"
   ]
  }
 ],
 "metadata": {
  "kernelspec": {
   "display_name": "Python 3 (ipykernel)",
   "language": "python",
   "name": "python3"
  },
  "language_info": {
   "codemirror_mode": {
    "name": "ipython",
    "version": 3
   },
   "file_extension": ".py",
   "mimetype": "text/x-python",
   "name": "python",
   "nbconvert_exporter": "python",
   "pygments_lexer": "ipython3",
   "version": "3.12.4"
  }
 },
 "nbformat": 4,
 "nbformat_minor": 5
}
